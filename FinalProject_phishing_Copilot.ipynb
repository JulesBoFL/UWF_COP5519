import pandas as pd
from sklearn.feature_extraction.text import TfidfVectorizer
from sklearn.model_selection import train_test_split
from sklearn.naive_bayes import MultinomialNB
from sklearn.pipeline import make_pipeline
from sklearn.metrics import classification_report

# Sample data
data = {
    'subject': [
        'Win a free iPhone now!',
        'Your account has been suspended',
        'Meeting agenda for next week',
        'Congratulations, you have won a lottery!',
        'Please verify your account information',
        'Team lunch on Friday',
        'Urgent: Update your payment details',
        'Project deadline extended',
        'Claim your free gift card',
        'Weekly report submission'
    ],
    'body': [
        'Click here to claim your free iPhone. Limited time offer!',
        'We have detected suspicious activity in your account. Please login to verify.',
        'Please find attached the agenda for next week\'s meeting.',
        'You have won a lottery! Click here to claim your prize.',
        'To continue using your account, please verify your information by clicking this link.',
        'Let\'s have a team lunch this Friday at 1 PM.',
        'Your payment details need to be updated. Click here to update now.',
        'The project deadline has been extended to next month.',
        'Claim your free gift card by clicking this link. Limited time offer!',
        'Please submit the weekly report by end of day Friday.'
    ],
    'label': [
        1, 1, 0, 1, 1, 0, 1, 0, 1, 0
    ]
}

# Create DataFrame
df = pd.DataFrame(data)

# Combine subject and body into a single feature
df['text'] = df['subject'] + " " + df['body']

# Split data into training and testing sets
X_train, X_test, y_train, y_test = train_test_split(df['text'], df['label'], test_size=0.2, random_state=42)

# Create a pipeline with TfidfVectorizer and MultinomialNB
model = make_pipeline(TfidfVectorizer(), MultinomialNB())

# Train the model
model.fit(X_train, y_train)

# Predict on the test set
y_pred = model.predict(X_test)

# Print classification report
print(classification_report(y_test, y_pred))
