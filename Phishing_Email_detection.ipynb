{
  "nbformat": 4,
  "nbformat_minor": 0,
  "metadata": {
    "colab": {
      "provenance": []
    },
    "kernelspec": {
      "name": "python3",
      "display_name": "Python 3"
    },
    "language_info": {
      "name": "python"
    }
  },
  "cells": [
    {
      "cell_type": "code",
      "execution_count": 1,
      "metadata": {
        "colab": {
          "base_uri": "https://localhost:8080/"
        },
        "id": "HHrV4N37NwQE",
        "outputId": "90e1a736-e0d4-462e-b9e3-8afcb0718f6d"
      },
      "outputs": [
        {
          "output_type": "stream",
          "name": "stdout",
          "text": [
            "This email appears to be a phishing attempt.\n"
          ]
        }
      ],
      "source": [
        "import re\n",
        "\n",
        "# Simulated email content\n",
        "email_subject = \"URGENT: Your account needs verification\"\n",
        "email_body = \"Dear customer, your account requires immediate verification. Click the link to proceed: http://fakephishingsite.com\"\n",
        "\n",
        "# Phishing indicators\n",
        "phishing_keywords = [\"URGENT\", \"account verification\", \"click the link\", \"verify now\", \"action required\"]\n",
        "phishing_url_pattern = r\"(http|https)://[^\\s/$.?#].[^\\s]*fakephishingsite\\.com\"\n",
        "\n",
        "# Content analysis\n",
        "def is_phishing(email_subject, email_body):\n",
        "    for keyword in phishing_keywords:\n",
        "        if keyword in email_subject or keyword in email_body:\n",
        "            return True\n",
        "\n",
        "    if re.search(phishing_url_pattern, email_body):\n",
        "        return True\n",
        "\n",
        "    return False\n",
        "\n",
        "# Test the email\n",
        "if is_phishing(email_subject, email_body):\n",
        "    print(\"This email appears to be a phishing attempt.\")\n",
        "else:\n",
        "    print(\"This email seems legitimate.\")\n"
      ]
    },
    {
      "cell_type": "code",
      "source": [
        "import numpy as np\n",
        "from sklearn.model_selection import train_test_split\n",
        "from sklearn.ensemble import RandomForestClassifier\n",
        "from sklearn.metrics import accuracy_score, classification_report\n",
        "\n",
        "# Simulate email data with more overlapping features\n",
        "num_samples = 1000\n",
        "num_features = 5\n",
        "\n",
        "phishing_data = np.random.rand(num_samples, num_features) + np.array([0.5, 0.5, 0.5, 0.5, 0.5])\n",
        "legitimate_data = np.random.rand(num_samples, num_features)\n",
        "\n",
        "# Combine data\n",
        "all_data = np.vstack((phishing_data, legitimate_data))\n",
        "\n",
        "# Create labels with more balance\n",
        "phishing_labels = np.ones(num_samples)\n",
        "legitimate_labels = np.zeros(num_samples)\n",
        "labels = np.concatenate((phishing_labels, legitimate_labels))\n",
        "\n",
        "# Split data into training and testing sets\n",
        "X_train, X_test, y_train, y_test = train_test_split(all_data, labels, test_size=0.2, random_state=42)\n",
        "\n",
        "# Create and train Random Forest classifier\n",
        "classifier = RandomForestClassifier()\n",
        "classifier.fit(X_train, y_train)\n",
        "\n",
        "# Make predictions\n",
        "y_pred = classifier.predict(X_test)\n",
        "\n",
        "# Evaluate\n",
        "accuracy = accuracy_score(y_test, y_pred)\n",
        "report = classification_report(y_test, y_pred, target_names=['Legitimate', 'Phishing'])\n",
        "\n",
        "print(f\"Accuracy: {accuracy:.2f}\")\n",
        "print(report)\n"
      ],
      "metadata": {
        "colab": {
          "base_uri": "https://localhost:8080/"
        },
        "id": "dKh9BF7nRdXT",
        "outputId": "2470152a-8543-494d-942d-a67f2f5c3db6"
      },
      "execution_count": 2,
      "outputs": [
        {
          "output_type": "stream",
          "name": "stdout",
          "text": [
            "Accuracy: 0.99\n",
            "              precision    recall  f1-score   support\n",
            "\n",
            "  Legitimate       0.99      0.99      0.99       201\n",
            "    Phishing       0.99      0.99      0.99       199\n",
            "\n",
            "    accuracy                           0.99       400\n",
            "   macro avg       0.99      0.99      0.99       400\n",
            "weighted avg       0.99      0.99      0.99       400\n",
            "\n"
          ]
        }
      ]
    },
    {
      "cell_type": "code",
      "source": [
        "#Generative AI for phishing\n",
        "\n",
        "import re\n",
        "\n",
        "# Define a list of phishing keywords\n",
        "phishing_keywords = [\n",
        "    \"urgent\",\n",
        "    \"verify\",\n",
        "    \"account\",\n",
        "    \"password\",\n",
        "    \"login\",\n",
        "    \"security\",\n",
        "    \"suspicious\",\n",
        "    \"confirm\",\n",
        "    \"bank\",\n",
        "    \"credit card\"\n",
        "]\n",
        "\n",
        "# Example email subject and body\n",
        "email_subject = \"Urgent: Verify Your Account Information\"\n",
        "email_body = \"Dear customer, your account has been compromised. Click the link to verify your details.\"\n",
        "\n",
        "# Convert text to lowercase for case-insensitive matching\n",
        "email_subject = email_subject.lower()\n",
        "email_body = email_body.lower()\n",
        "\n",
        "# Initialize a flag for phishing detection\n",
        "is_phishing = False\n",
        "\n",
        "# Check for phishing keywords in the subject\n",
        "for keyword in phishing_keywords:\n",
        "    if re.search(r'\\b' + re.escape(keyword) + r'\\b', email_subject):\n",
        "        is_phishing = True\n",
        "        break\n",
        "\n",
        "# Check for phishing keywords in the body\n",
        "for keyword in phishing_keywords:\n",
        "    if re.search(r'\\b' + re.escape(keyword) + r'\\b', email_body):\n",
        "        is_phishing = True\n",
        "        break\n",
        "\n",
        "# Print the result\n",
        "if is_phishing:\n",
        "    print(\"This email might be a phishing attempt.\")\n",
        "else:\n",
        "    print(\"This email seems legitimate.\")\n"
      ],
      "metadata": {
        "colab": {
          "base_uri": "https://localhost:8080/"
        },
        "id": "xGhM9Ol4RtBr",
        "outputId": "975bd907-f29e-44a1-be55-4329a195a920"
      },
      "execution_count": 3,
      "outputs": [
        {
          "output_type": "stream",
          "name": "stdout",
          "text": [
            "This email might be a phishing attempt.\n"
          ]
        }
      ]
    },
    {
      "cell_type": "code",
      "source": [
        "#check multiple email subjects\n",
        "\n",
        "import re\n",
        "\n",
        "# Define a list of phishing keywords\n",
        "phishing_keywords = [\n",
        "    \"urgent\",\n",
        "    \"verify\",\n",
        "    \"account\",\n",
        "    \"password\",\n",
        "    \"login\",\n",
        "    \"security\",\n",
        "    \"suspicious\",\n",
        "    \"confirm\",\n",
        "    \"bank\",\n",
        "    \"credit card\"\n",
        "]\n",
        "\n",
        "# List of example email subjects and bodies\n",
        "email_data = [\n",
        "    (\"Urgent: Verify Your Account Information\", \"Dear customer, your account has been compromised.\"),\n",
        "    (\"Important Security Update\", \"We noticed suspicious activity on your account.\"),\n",
        "    (\"Greetings from Your Bank\", \"Please log in to confirm your details.\"),\n",
        "    (\"Meeting Invitation\", \"You're invited to a meeting tomorrow.\"),\n",
        "    (\"Win a Free Vacation!\", \"Congratulations, you've won a free vacation!\")\n",
        "]\n",
        "\n",
        "# Iterate through each email and perform phishing detection\n",
        "for email_subject, email_body in email_data:\n",
        "    email_subject = email_subject.lower()\n",
        "    email_body = email_body.lower()\n",
        "\n",
        "    is_phishing = False\n",
        "\n",
        "    # Check for phishing keywords in the subject\n",
        "    for keyword in phishing_keywords:\n",
        "        if re.search(r'\\b' + re.escape(keyword) + r'\\b', email_subject):\n",
        "            is_phishing = True\n",
        "            break\n",
        "\n",
        "    # Check for phishing keywords in the body\n",
        "    for keyword in phishing_keywords:\n",
        "        if re.search(r'\\b' + re.escape(keyword) + r'\\b', email_body):\n",
        "            is_phishing = True\n",
        "            break\n",
        "\n",
        "    # Print the result for each email\n",
        "    if is_phishing:\n",
        "        print(f\"Email Subject: {email_subject} | This email might be a phishing attempt.\")\n",
        "    else:\n",
        "        print(f\"Email Subject: {email_subject} | This email seems legitimate.\")\n"
      ],
      "metadata": {
        "colab": {
          "base_uri": "https://localhost:8080/"
        },
        "id": "9rqtTRgSSBk3",
        "outputId": "ae35d929-7741-4099-b87a-a0cd513a233f"
      },
      "execution_count": 4,
      "outputs": [
        {
          "output_type": "stream",
          "name": "stdout",
          "text": [
            "Email Subject: urgent: verify your account information | This email might be a phishing attempt.\n",
            "Email Subject: important security update | This email might be a phishing attempt.\n",
            "Email Subject: greetings from your bank | This email might be a phishing attempt.\n",
            "Email Subject: meeting invitation | This email seems legitimate.\n",
            "Email Subject: win a free vacation! | This email seems legitimate.\n"
          ]
        }
      ]
    }
  ]
}