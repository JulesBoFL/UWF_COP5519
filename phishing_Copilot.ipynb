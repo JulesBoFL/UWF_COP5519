{
  "nbformat": 4,
  "nbformat_minor": 0,
  "metadata": {
    "colab": {
      "provenance": [],
      "include_colab_link": true
    },
    "kernelspec": {
      "name": "python3",
      "display_name": "Python 3"
    },
    "language_info": {
      "name": "python"
    }
  },
  "cells": [
    {
      "cell_type": "markdown",
      "metadata": {
        "id": "view-in-github",
        "colab_type": "text"
      },
      "source": [
        "<a href=\"https://colab.research.google.com/github/JulesBoFL/UWF_COP5519/blob/main/phishing_Copilot.ipynb\" target=\"_parent\"><img src=\"https://colab.research.google.com/assets/colab-badge.svg\" alt=\"Open In Colab\"/></a>"
      ]
    },
    {
      "cell_type": "markdown",
      "source": [
        "This whole thing should be in a while loop to allow the user to do the calculation as many times as needed"
      ],
      "metadata": {
        "id": "GmwjmExT-D3Z"
      }
    },
    {
      "cell_type": "code",
      "execution_count": 1,
      "metadata": {
        "id": "n5Rvhiiwq501",
        "colab": {
          "base_uri": "https://localhost:8080/"
        },
        "outputId": "e7184340-37d7-41fd-824c-22419f334dd8"
      },
      "outputs": [
        {
          "output_type": "stream",
          "name": "stdout",
          "text": [
            "              precision    recall  f1-score   support\n",
            "\n",
            "           1       1.00      1.00      1.00         2\n",
            "\n",
            "    accuracy                           1.00         2\n",
            "   macro avg       1.00      1.00      1.00         2\n",
            "weighted avg       1.00      1.00      1.00         2\n",
            "\n"
          ]
        }
      ],
      "source": [
        "import pandas as pd\n",
        "from sklearn.feature_extraction.text import TfidfVectorizer\n",
        "from sklearn.model_selection import train_test_split\n",
        "from sklearn.naive_bayes import MultinomialNB\n",
        "from sklearn.pipeline import make_pipeline\n",
        "from sklearn.metrics import classification_report\n",
        "\n",
        "# Sample data\n",
        "data = {\n",
        "    'subject': [\n",
        "        'Win a free iPhone now!',\n",
        "        'Your account has been suspended',\n",
        "        'Meeting agenda for next week',\n",
        "        'Congratulations, you have won a lottery!',\n",
        "        'Please verify your account information',\n",
        "        'Team lunch on Friday',\n",
        "        'Urgent: Update your payment details',\n",
        "        'Project deadline extended',\n",
        "        'Claim your free gift card',\n",
        "        'Weekly report submission'\n",
        "    ],\n",
        "    'body': [\n",
        "        'Click here to claim your free iPhone. Limited time offer!',\n",
        "        'We have detected suspicious activity in your account. Please login to verify.',\n",
        "        'Please find attached the agenda for next week\\'s meeting.',\n",
        "        'You have won a lottery! Click here to claim your prize.',\n",
        "        'To continue using your account, please verify your information by clicking this link.',\n",
        "        'Let\\'s have a team lunch this Friday at 1 PM.',\n",
        "        'Your payment details need to be updated. Click here to update now.',\n",
        "        'The project deadline has been extended to next month.',\n",
        "        'Claim your free gift card by clicking this link. Limited time offer!',\n",
        "        'Please submit the weekly report by end of day Friday.'\n",
        "    ],\n",
        "    'label': [\n",
        "        1, 1, 0, 1, 1, 0, 1, 0, 1, 0\n",
        "    ]\n",
        "}\n",
        "\n",
        "# Create DataFrame\n",
        "df = pd.DataFrame(data)\n",
        "\n",
        "# Combine subject and body into a single feature\n",
        "df['text'] = df['subject'] + \" \" + df['body']\n",
        "\n",
        "# Split data into training and testing sets\n",
        "X_train, X_test, y_train, y_test = train_test_split(df['text'], df['label'], test_size=0.2, random_state=42)\n",
        "\n",
        "# Create a pipeline with TfidfVectorizer and MultinomialNB\n",
        "model = make_pipeline(TfidfVectorizer(), MultinomialNB())\n",
        "\n",
        "# Train the model\n",
        "model.fit(X_train, y_train)\n",
        "\n",
        "# Predict on the test set\n",
        "y_pred = model.predict(X_test)\n",
        "\n",
        "# Print classification report\n",
        "print(classification_report(y_test, y_pred))\n"
      ]
    }
  ]
}